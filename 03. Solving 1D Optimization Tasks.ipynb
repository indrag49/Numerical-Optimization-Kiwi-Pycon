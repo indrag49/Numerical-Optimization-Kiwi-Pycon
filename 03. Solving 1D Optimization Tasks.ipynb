{
 "cells": [
  {
   "cell_type": "markdown",
   "metadata": {},
   "source": [
    "## One Dimensional Optimization Problems\n",
    "\n",
    "The aim of this chapter is to introduce methods for solving one-dimensional optimization tasks, formulated in the following way:\n",
    "\\begin{equation}\n",
    "    f(x^*)=\\underset{x}{\\min\\ }f(x), x \\in \\mathbb{R} \\label{eq:1}\\tag{1}\n",
    "\\end{equation}\n",
    "where, $f$ is a nonlinear function. The understanding of these optimization tasks and algorithms will be generalized in solving unconstrained optimization tasks involving objective function of multiple variables, in the future chapters.\n",
    "\n"
   ]
  },
  {
   "cell_type": "markdown",
   "metadata": {},
   "source": [
    "## What is a Unimodal Function?\n",
    "\n",
    "A function $f(x)$, where $x \\in \\mathbb{R}$ is said to be *unimodal* [refer to https://math.mit.edu/~rmd/465/unimod-dip-bds.pdf] if for a value $x^*$ on the real line, the following conditions are satisfied:\n",
    "* $f$ is monotonically decreasing for  $x \\leq v$,\n",
    "* $f$ is monotonically increasing for $x \\geq v$, and\n",
    "* if the above two conditions are satisfied, then $f(x^*)$ is the minimum value of $f(x)$, and $x^*$ is the minimizer of $f$.\n",
    "\n",
    "\n",
    "Let us have a look into the figure below.\n"
   ]
  },
  {
   "cell_type": "code",
   "execution_count": 1,
   "metadata": {},
   "outputs": [
    {
     "data": {
      "text/plain": [
       "Text(0.5, 1.0, 'A unimodal quadratic function, showing the minimizer, and the interval of uncertainty')"
      ]
     },
     "execution_count": 1,
     "metadata": {},
     "output_type": "execute_result"
    },
    {
     "data": {
      "image/png": "[encoded data removed]",
      "text/plain": [
       "<Figure size 432x288 with 1 Axes>"
      ]
     },
     "metadata": {
      "needs_background": "light"
     },
     "output_type": "display_data"
    }
   ],
   "source": [
    "import matplotlib.pyplot as plt\n",
    "import numpy as np\n",
    "def f(x):\n",
    "    return 5*x**2 - 3*x + 2\n",
    "x = np.linspace(-4, 4)\n",
    "y = f(x)\n",
    "plt.axvline(x=-4, color='k', linestyle='--')\n",
    "plt.axvline(x=4, color='k', linestyle='--')\n",
    "plt.plot(x, y, \"-r\")\n",
    "plt.axvline(x=-1, color='k', linestyle='-')\n",
    "plt.axvline(x=2, color='k', linestyle='-')\n",
    "plt.axvline(x=0.3, color='k',\n",
    "linestyle='--')\n",
    "plt.title(\"A unimodal quadratic function, showing the minimizer, and the interval of uncertainty\", size = 10)"
   ]
  },
  {
   "cell_type": "markdown",
   "metadata": {},
   "source": [
    "We have taken the quadratic function of one variable: $f(x) = 5x^2-3x+2$. It is a nonlinear unimodal function defined over the interval $[-2,2]$, denoted by the dotted lines on either side.. The minimizer $x^*=0.3$ (which can be solved analytically!), given by the middle dotted line, lies inside the interval $[x_l, x_r]=[-2,2]$. We notice that $f(x)$ strictly decreases for $f(x) < f(x^*)$ and strictly increases for $f(x) > f(x^*)$. The interval $[x_l, x_r]$ that has the minimizer within it, is called the *interval of uncertainty* and the goal of an optimization algorithm is to reduce this interval as much as possible to converge towards the minimizer. A good algorithm completes the convergence very fast. In each step of this reduction of the interval, the algorithm finds a new unimodal interval following the following procedures:\n",
    "\n",
    "* Choose two new points, $x_1 \\in [x_l, x^*]$ and another point $x_2 \\in [x^*, x_r]$ (denoted by the two filled straight lines in the figure,\n",
    "* If $f(x_2) > f(x_1)$, the new interval becomes $[x_l, x_2]$ and $x_r$ becomes $x_2$, i.e, $x_r=x_2$,\n",
    "* Next pick a new $x_2$,\n",
    "* If condition in step (2) is not satisfied, we set the new interval as $[x_1, x_r]$ directly after step (1) and set $x_l=x_1$, and\n",
    "* Next pick a new $x_1$.\n",
    "\n",
    "The given steps continue iteratively until the convergence is satisfied to a given limit of the minimizer. These class of methods is called an *Elimination Method* and we study two categories under this kind:\n",
    "\n",
    "* **Fibonacci Search**, and\n",
    "* **Golden Section Search**.\n",
    "\n",
    "Rao's book *Engineering Optimization* [Rao, Singiresu S. Engineering optimization: theory and practice. John Wiley & Sons, 2019.] also has some detailed studies on these kinds of optimization methods.\n",
    "\n"
   ]
  },
  {
   "cell_type": "markdown",
   "metadata": {},
   "source": [
    "## Fibonacci Search Method\n",
    "\n",
    "Instead of finding the exact minimizer $x^*$ of $f(x)$, the *Fibonacci search strategy* works by reducing the interval of uncertainty in every step, ultimately converging the interval, containing the minimizer, to a desired size as small as possible. One caveat is that, the initial interval containing, such that the interval lies in it, has to be known beforehand. However, the algorithm works on a nonlinear function, even if it is discontinuous. The name comes from the fact that the algorithm makes use of the famous sequence of *Fibonacci numbers* [http://oeis.org/A000045]. This sequence is defined in the following way:\n",
    "\n",
    "\\begin{align}\n",
    "F_0&=0,F_1=1, \\\\ \n",
    "F_n&=F_{n-1} + F_{n-2},\\text{ where }n=2,3,\\ldots\n",
    "\\end{align}\n",
    "\n",
    "See Rao’s book Engineering Optimization [Rao, Singiresu S. Engineering optimization: theory and practice. John Wiley & Sons, 2019.]\n",
    "\n",
    "We write a Python code to generate the first 16 Fibonacci numbers and display them as a table:\n"
   ]
  },
  {
   "cell_type": "code",
   "execution_count": 3,
   "metadata": {},
   "outputs": [
    {
     "data": {
      "text/html": [
       "<div>\n",
       "<style scoped>\n",
       "    .dataframe tbody tr th:only-of-type {\n",
       "        vertical-align: middle;\n",
       "    }\n",
       "\n",
       "    .dataframe tbody tr th {\n",
       "        vertical-align: top;\n",
       "    }\n",
       "\n",
       "    .dataframe thead th {\n",
       "        text-align: right;\n",
       "    }\n",
       "</style>\n",
       "<table border=\"1\" class=\"dataframe\">\n",
       "  <thead>\n",
       "    <tr style=\"text-align: right;\">\n",
       "      <th></th>\n",
       "      <th>n</th>\n",
       "      <th>Fibonacci(n)</th>\n",
       "    </tr>\n",
       "  </thead>\n",
       "  <tbody>\n",
       "    <tr>\n",
       "      <th>0</th>\n",
       "      <td>0</td>\n",
       "      <td>0</td>\n",
       "    </tr>\n",
       "    <tr>\n",
       "      <th>1</th>\n",
       "      <td>1</td>\n",
       "      <td>1</td>\n",
       "    </tr>\n",
       "    <tr>\n",
       "      <th>2</th>\n",
       "      <td>2</td>\n",
       "      <td>1</td>\n",
       "    </tr>\n",
       "    <tr>\n",
       "      <th>3</th>\n",
       "      <td>3</td>\n",
       "      <td>2</td>\n",
       "    </tr>\n",
       "    <tr>\n",
       "      <th>4</th>\n",
       "      <td>4</td>\n",
       "      <td>3</td>\n",
       "    </tr>\n",
       "    <tr>\n",
       "      <th>5</th>\n",
       "      <td>5</td>\n",
       "      <td>5</td>\n",
       "    </tr>\n",
       "    <tr>\n",
       "      <th>6</th>\n",
       "      <td>6</td>\n",
       "      <td>8</td>\n",
       "    </tr>\n",
       "    <tr>\n",
       "      <th>7</th>\n",
       "      <td>7</td>\n",
       "      <td>13</td>\n",
       "    </tr>\n",
       "    <tr>\n",
       "      <th>8</th>\n",
       "      <td>8</td>\n",
       "      <td>21</td>\n",
       "    </tr>\n",
       "    <tr>\n",
       "      <th>9</th>\n",
       "      <td>9</td>\n",
       "      <td>34</td>\n",
       "    </tr>\n",
       "    <tr>\n",
       "      <th>10</th>\n",
       "      <td>10</td>\n",
       "      <td>55</td>\n",
       "    </tr>\n",
       "    <tr>\n",
       "      <th>11</th>\n",
       "      <td>11</td>\n",
       "      <td>89</td>\n",
       "    </tr>\n",
       "    <tr>\n",
       "      <th>12</th>\n",
       "      <td>12</td>\n",
       "      <td>144</td>\n",
       "    </tr>\n",
       "    <tr>\n",
       "      <th>13</th>\n",
       "      <td>13</td>\n",
       "      <td>233</td>\n",
       "    </tr>\n",
       "    <tr>\n",
       "      <th>14</th>\n",
       "      <td>14</td>\n",
       "      <td>377</td>\n",
       "    </tr>\n",
       "    <tr>\n",
       "      <th>15</th>\n",
       "      <td>15</td>\n",
       "      <td>610</td>\n",
       "    </tr>\n",
       "  </tbody>\n",
       "</table>\n",
       "</div>"
      ],
      "text/plain": [
       "     n  Fibonacci(n)\n",
       "0    0             0\n",
       "1    1             1\n",
       "2    2             1\n",
       "3    3             2\n",
       "4    4             3\n",
       "5    5             5\n",
       "6    6             8\n",
       "7    7            13\n",
       "8    8            21\n",
       "9    9            34\n",
       "10  10            55\n",
       "11  11            89\n",
       "12  12           144\n",
       "13  13           233\n",
       "14  14           377\n",
       "15  15           610"
      ]
     },
     "execution_count": 3,
     "metadata": {},
     "output_type": "execute_result"
    }
   ],
   "source": [
    "import pandas as pd\n",
    "import numpy as np\n",
    "def fibonacci(n): # define the  function\n",
    "    fn = [0, 1,]\n",
    "    for i in range(2, n+1):\n",
    "        fn.append(fn[i-1] + fn[i-2])\n",
    "    return fn\n",
    "N = np.arange(16)\n",
    "data = {'n': N, 'Fibonacci(n)': fibonacci(15)}\n",
    "df = pd.DataFrame(data)\n",
    "\n",
    "df"
   ]
  },
  {
   "cell_type": "markdown",
   "metadata": {},
   "source": [
    "Let $n$ be the total number of experiments to be conducted and $[x_l, x_r]$ be the initial interval the algorithm starts with. Let \n",
    "\\begin{eqnarray}\n",
    "L_0 = x_r - x_l \\label{eq:2}\\tag{2}\n",
    "\\end{eqnarray}\n",
    "be the initial level of uncertainty and let us define,\n",
    "\\begin{eqnarray}\n",
    "L_j = \\frac{F_{n-2}}{F_n}L_0 \\label{eq:3}\\tag{3}\n",
    "\\end{eqnarray}\n",
    "where, $F_{n-2}$ and $F_n$ are the $(n-2)^{th}$ and $n^{th}$ *Fibonacci numbers* respectively. We see from the formulation of the *Fibonacci numbers* that, Eq.\\eqref{eq:3} shows the following property:\n",
    "\\begin{equation}\n",
    "    L_j = \\frac{F_{n-2}}{F_n}L_0 \\leq \\frac{L_0}{2} \\text{ for } n\\geq 2 \n",
    "\\end{equation}\n",
    "Now, the initial two experiments are set at points $x_1$ and $x_2$, where, $L_j = x_1 - x_l$ and $L_j = x_r - x_2$. So, combining these with Eq.\\eqref{eq:3}, we have:\n",
    "\\begin{equation}\n",
    "    x_1 = x_l + \\frac{F_{n-2}}{F_n}L_0 \\label{eq:4}\\tag{4}\n",
    "\\end{equation}\n",
    "and\n",
    "\\begin{equation}\n",
    "    x_2 = x_r - \\frac{F_{n-2}}{F_n}L_0 \\label{eq:5}\\tag{5}\n",
    "    \\end{equation}\n",
    "Now taking into consideration the unimodality assumption, a part of the interval of uncertainty is rejected, shrinking it to a smaller size, given by,\n",
    "\\begin{equation}\n",
    "    L_i = L_0 - L_j = L_0(1-\\frac{F_{n-2}}{F_n}) = \\frac{F_{n-1}}{F_n}L_0 \\label{eq:6}\\tag{6}\n",
    "\\end{equation}\n",
    "where, we have used the fact that, $F_n - F_{n-2} = F_{n-1}$ from the formulation of the *Fibonacci numbers*. This procedure leaves us with only one experiment, which, from one end, is situated at a distance of\n",
    "\\begin{equation}\n",
    "  L_j = \\frac{F_{n-2}}{F_n}L_0 = \\frac{F_{n-2}}{F_{n-1}}L_i \\label{eq:7}\\tag{7}\n",
    "\\end{equation}\n",
    "where, we have used Eq.\\eqref{eq:3}. From the other end, the same experiment point is situated at a distance give by,\n",
    "\\begin{equation}\n",
    "L_i-L_j = \\frac{F_{n-3}}{F_n}L_0 = \\frac{F_{n-3}}{F_n}L_0 = \\frac{F_{n-3}}{F_{n-1}}L_2 \\label{eq:8}\\tag{8}\n",
    "\\end{equation}\n",
    "where, we have again used Eq.\\eqref{eq:3}. We now place a new experiment point in the interval $L_i$ so that both the present experiment points are situated at a distance given by Eq.\\eqref{eq:7}. We again reduce the size of the interval of uncertainty using the unimodality conditions. This whole process is continued so that for the $k^{th}$ experiment point, its location is given by,\n",
    "\\begin{equation}\n",
    "    L_{k[j]} = \\frac{F_{n-k}}{F_{n-(k-2)}}L_{k-1} \\label{eq:9}\\tag{9}\n",
    "\\end{equation}\n",
    "and the interval of uncertainty is given by,\n",
    "\\begin{equation}\n",
    "    l_{k[i]} = \\frac{F_{n-(k-1)}}{F_n}L_0 \\label{eq:10}\\tag{10}\n",
    "\\end{equation}\n",
    "    after $k$ iterations are completed. Now, the *reduction ratio* given by the ratio of the present interval of uncertainty after conduction of $k$ iterations out of the $n$ experiments to be performed, $L_{k[i]}$ to the initial interval of uncertainty, $L_0$:\n",
    "\\begin{equation}\n",
    "    R = \\frac{L_{k[i]}}{L_0} = \\frac{F_{n-(k-1)}}{F_n} \\label{eq:11}\\tag{11}\n",
    "\\end{equation}\n",
    "\n",
    "The purpose of this algorithm is to bring $R \\sim 0$. We will write a Python function that implements the above algorithm"
   ]
  },
  {
   "cell_type": "code",
   "execution_count": 4,
   "metadata": {},
   "outputs": [],
   "source": [
    "def fib_search(f, xl, xr, n):\n",
    "    F = fibonacci(n) # Call the fibonnaci number function\n",
    "    L0 = xr - xl # Initial interval of uncertainty\n",
    "    R1 = L0 # Initial Reduction Ratio\n",
    "    Li = (F[n-2]/F[n])*L0 \n",
    "    \n",
    "    R = [Li/L0]\n",
    "    for i in range(2, n+1):\n",
    "        if Li > L0/2:\n",
    "            x1 = xr - Li\n",
    "            x2 = xl + Li\n",
    "        else:\n",
    "            x1 = xl + Li\n",
    "            x2 = xr - Li\n",
    "            \n",
    "        f1, f2 = f(x1), f(x2)\n",
    "        \n",
    "        if f1 < f2:\n",
    "            xr = x2\n",
    "            Li = (F[n - i]/F[n - (i - 2)])*L0 # New interval of uncertainty\n",
    "        elif f1 > f2:\n",
    "            xl = x1\n",
    "            Li = (F[n - i]/F[n - (i - 2)])*L0 # New interval of uncertainty\n",
    "        else:\n",
    "            xl, xr = x1, x2\n",
    "            Li = (F[n - i]/F[n - (i - 2)])*(xr - xl) # New interval of uncertainty\n",
    "            \n",
    "        L0 = xr - xl\n",
    "        R += [Li/R1,] # Append the new reduction ratio\n",
    "        \n",
    "    if f1 <= f2:\n",
    "        return [x1, f(x1), R] # Final result\n",
    "    else:\n",
    "        return [x2, f(x2), R] # Final result"
   ]
  },
  {
   "cell_type": "markdown",
   "metadata": {},
   "source": [
    "### An Example\n",
    "\n",
    "Let an objective function be:\n",
    "\\begin{equation}\n",
    "    f(x) = x^5 - 5x^3 - 20x + 5 \\label{eq:12}\\tag{12}\n",
    "\\end{equation}\n",
    "We will use the **Fibonacci search algorithm** to find the minimizer $x^*$, taking $n=25$ and the initial interval of uncertainty $[-2.5, 2.5]$. Let's write a Python function to define the given objective function and visualize the same:"
   ]
  },
  {
   "cell_type": "code",
   "execution_count": 5,
   "metadata": {},
   "outputs": [
    {
     "data": {
      "image/png": "[encoded data removed]",
      "text/plain": [
       "<Figure size 432x288 with 1 Axes>"
      ]
     },
     "metadata": {
      "needs_background": "light"
     },
     "output_type": "display_data"
    }
   ],
   "source": [
    "def f(x): # Objective function\n",
    "    return x**5 - 5*x**3 - 20*x + 5\n",
    "x = np.linspace(-3, 3, 100)\n",
    "plt.plot(x, f(x), 'r-')\n",
    "plt.xlabel('x ->')\n",
    "plt.ylabel('f(x) ->')\n",
    "plt.title(\"Graph of $f(x) =  x^5-5x^3-20x+5$\")\n",
    "plt.show()"
   ]
  },
  {
   "cell_type": "markdown",
   "metadata": {},
   "source": [
    "Now, we consider $n=25$ and use the function `fib_search(f, -2.5, 2.5, 25)` to run the optimization and print the results:"
   ]
  },
  {
   "cell_type": "code",
   "execution_count": 6,
   "metadata": {},
   "outputs": [
    {
     "name": "stdout",
     "output_type": "stream",
     "text": [
      "x*: 1.999966677774075\n",
      "f(x*): -42.99999994448275\n",
      "Final Reduction Ratio: 0.0\n"
     ]
    }
   ],
   "source": [
    "Fib = fib_search(f, -2.5, 2.5, 25)\n",
    "x_star, f_x_star, R = Fib\n",
    "print (\"x*:\", x_star)\n",
    "print (\"f(x*):\", f_x_star)\n",
    "print (\"Final Reduction Ratio:\", R[-1])"
   ]
  },
  {
   "cell_type": "markdown",
   "metadata": {},
   "source": [
    "We see that $x^* \\sim 2$, $f(x^*) \\sim -43$ and the final *Reduction Ration* is 0. Now, to show the positions of $x^*$ and $f(x^*)$ on the graph of the objective function, we write the following code:"
   ]
  },
  {
   "cell_type": "code",
   "execution_count": 7,
   "metadata": {},
   "outputs": [
    {
     "data": {
      "image/png": "[encoded data removed]",
      "text/plain": [
       "<Figure size 432x288 with 1 Axes>"
      ]
     },
     "metadata": {
      "needs_background": "light"
     },
     "output_type": "display_data"
    }
   ],
   "source": [
    "x = np.linspace(-3, 3, 100)\n",
    "plt.plot(x, f(x), 'r-')\n",
    "plt.plot([x_star], [f_x_star], 'ko')\n",
    "plt.axvline(x=x_star, color='b', linestyle='--')\n",
    "plt.xlabel('x ->')\n",
    "plt.ylabel('f(x) ->')\n",
    "plt.title(\"$x^*$ denoted as broken blue line and $f(x^*)$ denoted as the black dot\")\n",
    "plt.show()"
   ]
  },
  {
   "cell_type": "markdown",
   "metadata": {},
   "source": [
    "We can modify our function in such a way that all the optimization data in every step are collected\n",
    "and displayed as a `DataFrame`:"
   ]
  },
  {
   "cell_type": "code",
   "execution_count": 8,
   "metadata": {},
   "outputs": [
    {
     "data": {
      "text/html": [
       "<div>\n",
       "<style scoped>\n",
       "    .dataframe tbody tr th:only-of-type {\n",
       "        vertical-align: middle;\n",
       "    }\n",
       "\n",
       "    .dataframe tbody tr th {\n",
       "        vertical-align: top;\n",
       "    }\n",
       "\n",
       "    .dataframe thead th {\n",
       "        text-align: right;\n",
       "    }\n",
       "</style>\n",
       "<table border=\"1\" class=\"dataframe\">\n",
       "  <thead>\n",
       "    <tr style=\"text-align: right;\">\n",
       "      <th></th>\n",
       "      <th>n</th>\n",
       "      <th>xl</th>\n",
       "      <th>xr</th>\n",
       "      <th>f(x1)</th>\n",
       "      <th>f(x2)</th>\n",
       "      <th>Reduction Ratio</th>\n",
       "    </tr>\n",
       "  </thead>\n",
       "  <tbody>\n",
       "    <tr>\n",
       "      <th>0</th>\n",
       "      <td>0</td>\n",
       "      <td>-2.500000</td>\n",
       "      <td>2.500000</td>\n",
       "      <td>35.468750</td>\n",
       "      <td>-25.468750</td>\n",
       "      <td>0.381966</td>\n",
       "    </tr>\n",
       "    <tr>\n",
       "      <th>1</th>\n",
       "      <td>1</td>\n",
       "      <td>-0.590170</td>\n",
       "      <td>2.500000</td>\n",
       "      <td>17.759586</td>\n",
       "      <td>-7.759586</td>\n",
       "      <td>0.381966</td>\n",
       "    </tr>\n",
       "    <tr>\n",
       "      <th>2</th>\n",
       "      <td>2</td>\n",
       "      <td>0.590170</td>\n",
       "      <td>2.500000</td>\n",
       "      <td>-7.759586</td>\n",
       "      <td>-28.881854</td>\n",
       "      <td>0.236068</td>\n",
       "    </tr>\n",
       "    <tr>\n",
       "      <th>3</th>\n",
       "      <td>3</td>\n",
       "      <td>1.319660</td>\n",
       "      <td>2.500000</td>\n",
       "      <td>-28.881854</td>\n",
       "      <td>-40.762632</td>\n",
       "      <td>0.145898</td>\n",
       "    </tr>\n",
       "    <tr>\n",
       "      <th>4</th>\n",
       "      <td>4</td>\n",
       "      <td>1.770510</td>\n",
       "      <td>2.500000</td>\n",
       "      <td>-40.762632</td>\n",
       "      <td>-42.874998</td>\n",
       "      <td>0.090170</td>\n",
       "    </tr>\n",
       "    <tr>\n",
       "      <th>5</th>\n",
       "      <td>5</td>\n",
       "      <td>1.770510</td>\n",
       "      <td>2.221360</td>\n",
       "      <td>-42.874998</td>\n",
       "      <td>-40.145824</td>\n",
       "      <td>0.055728</td>\n",
       "    </tr>\n",
       "    <tr>\n",
       "      <th>6</th>\n",
       "      <td>6</td>\n",
       "      <td>1.942719</td>\n",
       "      <td>2.221360</td>\n",
       "      <td>-42.842416</td>\n",
       "      <td>-42.874998</td>\n",
       "      <td>0.034442</td>\n",
       "    </tr>\n",
       "    <tr>\n",
       "      <th>7</th>\n",
       "      <td>7</td>\n",
       "      <td>1.942719</td>\n",
       "      <td>2.114928</td>\n",
       "      <td>-42.874998</td>\n",
       "      <td>-42.284678</td>\n",
       "      <td>0.021286</td>\n",
       "    </tr>\n",
       "    <tr>\n",
       "      <th>8</th>\n",
       "      <td>8</td>\n",
       "      <td>1.942719</td>\n",
       "      <td>2.049150</td>\n",
       "      <td>-42.996368</td>\n",
       "      <td>-42.874998</td>\n",
       "      <td>0.013156</td>\n",
       "    </tr>\n",
       "    <tr>\n",
       "      <th>9</th>\n",
       "      <td>9</td>\n",
       "      <td>1.983372</td>\n",
       "      <td>2.049150</td>\n",
       "      <td>-42.986336</td>\n",
       "      <td>-42.996368</td>\n",
       "      <td>0.008131</td>\n",
       "    </tr>\n",
       "    <tr>\n",
       "      <th>10</th>\n",
       "      <td>10</td>\n",
       "      <td>1.983372</td>\n",
       "      <td>2.024025</td>\n",
       "      <td>-42.996368</td>\n",
       "      <td>-42.970650</td>\n",
       "      <td>0.005025</td>\n",
       "    </tr>\n",
       "    <tr>\n",
       "      <th>11</th>\n",
       "      <td>11</td>\n",
       "      <td>1.983372</td>\n",
       "      <td>2.008497</td>\n",
       "      <td>-42.999940</td>\n",
       "      <td>-42.996368</td>\n",
       "      <td>0.003106</td>\n",
       "    </tr>\n",
       "    <tr>\n",
       "      <th>12</th>\n",
       "      <td>12</td>\n",
       "      <td>1.992969</td>\n",
       "      <td>2.008497</td>\n",
       "      <td>-42.997540</td>\n",
       "      <td>-42.999940</td>\n",
       "      <td>0.001919</td>\n",
       "    </tr>\n",
       "    <tr>\n",
       "      <th>13</th>\n",
       "      <td>13</td>\n",
       "      <td>1.992969</td>\n",
       "      <td>2.002566</td>\n",
       "      <td>-42.999940</td>\n",
       "      <td>-42.999670</td>\n",
       "      <td>0.001186</td>\n",
       "    </tr>\n",
       "    <tr>\n",
       "      <th>14</th>\n",
       "      <td>14</td>\n",
       "      <td>1.996634</td>\n",
       "      <td>2.002566</td>\n",
       "      <td>-42.999435</td>\n",
       "      <td>-42.999940</td>\n",
       "      <td>0.000733</td>\n",
       "    </tr>\n",
       "    <tr>\n",
       "      <th>15</th>\n",
       "      <td>15</td>\n",
       "      <td>1.998900</td>\n",
       "      <td>2.002566</td>\n",
       "      <td>-42.999940</td>\n",
       "      <td>-42.999996</td>\n",
       "      <td>0.000453</td>\n",
       "    </tr>\n",
       "    <tr>\n",
       "      <th>16</th>\n",
       "      <td>16</td>\n",
       "      <td>1.998900</td>\n",
       "      <td>2.001166</td>\n",
       "      <td>-42.999996</td>\n",
       "      <td>-42.999932</td>\n",
       "      <td>0.000280</td>\n",
       "    </tr>\n",
       "    <tr>\n",
       "      <th>17</th>\n",
       "      <td>17</td>\n",
       "      <td>1.998900</td>\n",
       "      <td>2.000300</td>\n",
       "      <td>-42.999997</td>\n",
       "      <td>-42.999996</td>\n",
       "      <td>0.000173</td>\n",
       "    </tr>\n",
       "    <tr>\n",
       "      <th>18</th>\n",
       "      <td>18</td>\n",
       "      <td>1.999434</td>\n",
       "      <td>2.000300</td>\n",
       "      <td>-42.999984</td>\n",
       "      <td>-42.999997</td>\n",
       "      <td>0.000107</td>\n",
       "    </tr>\n",
       "    <tr>\n",
       "      <th>19</th>\n",
       "      <td>19</td>\n",
       "      <td>1.999767</td>\n",
       "      <td>2.000300</td>\n",
       "      <td>-42.999997</td>\n",
       "      <td>-43.000000</td>\n",
       "      <td>0.000067</td>\n",
       "    </tr>\n",
       "    <tr>\n",
       "      <th>20</th>\n",
       "      <td>20</td>\n",
       "      <td>1.999767</td>\n",
       "      <td>2.000100</td>\n",
       "      <td>-43.000000</td>\n",
       "      <td>-43.000000</td>\n",
       "      <td>0.000040</td>\n",
       "    </tr>\n",
       "    <tr>\n",
       "      <th>21</th>\n",
       "      <td>21</td>\n",
       "      <td>1.999900</td>\n",
       "      <td>2.000100</td>\n",
       "      <td>-43.000000</td>\n",
       "      <td>-43.000000</td>\n",
       "      <td>0.000027</td>\n",
       "    </tr>\n",
       "    <tr>\n",
       "      <th>22</th>\n",
       "      <td>22</td>\n",
       "      <td>1.999900</td>\n",
       "      <td>2.000033</td>\n",
       "      <td>-43.000000</td>\n",
       "      <td>-43.000000</td>\n",
       "      <td>0.000013</td>\n",
       "    </tr>\n",
       "    <tr>\n",
       "      <th>23</th>\n",
       "      <td>23</td>\n",
       "      <td>1.999967</td>\n",
       "      <td>1.999967</td>\n",
       "      <td>-43.000000</td>\n",
       "      <td>-43.000000</td>\n",
       "      <td>0.000000</td>\n",
       "    </tr>\n",
       "    <tr>\n",
       "      <th>24</th>\n",
       "      <td>24</td>\n",
       "      <td>1.999967</td>\n",
       "      <td>1.999967</td>\n",
       "      <td>-43.000000</td>\n",
       "      <td>-43.000000</td>\n",
       "      <td>0.000000</td>\n",
       "    </tr>\n",
       "  </tbody>\n",
       "</table>\n",
       "</div>"
      ],
      "text/plain": [
       "     n        xl        xr      f(x1)      f(x2)  Reduction Ratio\n",
       "0    0 -2.500000  2.500000  35.468750 -25.468750         0.381966\n",
       "1    1 -0.590170  2.500000  17.759586  -7.759586         0.381966\n",
       "2    2  0.590170  2.500000  -7.759586 -28.881854         0.236068\n",
       "3    3  1.319660  2.500000 -28.881854 -40.762632         0.145898\n",
       "4    4  1.770510  2.500000 -40.762632 -42.874998         0.090170\n",
       "5    5  1.770510  2.221360 -42.874998 -40.145824         0.055728\n",
       "6    6  1.942719  2.221360 -42.842416 -42.874998         0.034442\n",
       "7    7  1.942719  2.114928 -42.874998 -42.284678         0.021286\n",
       "8    8  1.942719  2.049150 -42.996368 -42.874998         0.013156\n",
       "9    9  1.983372  2.049150 -42.986336 -42.996368         0.008131\n",
       "10  10  1.983372  2.024025 -42.996368 -42.970650         0.005025\n",
       "11  11  1.983372  2.008497 -42.999940 -42.996368         0.003106\n",
       "12  12  1.992969  2.008497 -42.997540 -42.999940         0.001919\n",
       "13  13  1.992969  2.002566 -42.999940 -42.999670         0.001186\n",
       "14  14  1.996634  2.002566 -42.999435 -42.999940         0.000733\n",
       "15  15  1.998900  2.002566 -42.999940 -42.999996         0.000453\n",
       "16  16  1.998900  2.001166 -42.999996 -42.999932         0.000280\n",
       "17  17  1.998900  2.000300 -42.999997 -42.999996         0.000173\n",
       "18  18  1.999434  2.000300 -42.999984 -42.999997         0.000107\n",
       "19  19  1.999767  2.000300 -42.999997 -43.000000         0.000067\n",
       "20  20  1.999767  2.000100 -43.000000 -43.000000         0.000040\n",
       "21  21  1.999900  2.000100 -43.000000 -43.000000         0.000027\n",
       "22  22  1.999900  2.000033 -43.000000 -43.000000         0.000013\n",
       "23  23  1.999967  1.999967 -43.000000 -43.000000         0.000000\n",
       "24  24  1.999967  1.999967 -43.000000 -43.000000         0.000000"
      ]
     },
     "execution_count": 8,
     "metadata": {},
     "output_type": "execute_result"
    }
   ],
   "source": [
    "def fib_search(f, xl, xr, n):    \n",
    "    F = fibonacci(n)\n",
    "    L0 = xr - xl\n",
    "    ini = L0\n",
    "    Li = (F[n-2]/F[n])*L0\n",
    "    \n",
    "    R = [Li/L0]\n",
    "    a = [xl]\n",
    "    b = [xr]\n",
    "    F1 = [f(xl)]\n",
    "    F2 = [f(xr)]\n",
    "    for i in range(2, n+1):\n",
    "        #print(\"reduction ratio:\", Li/ini)\n",
    "        if Li > L0/2:\n",
    "            x1 = xr - Li\n",
    "            x2 = xl + Li\n",
    "        else:\n",
    "            x1 = xl + Li\n",
    "            x2 = xr - Li\n",
    "            \n",
    "        f1, f2 = f(x1), f(x2)\n",
    "        \n",
    "        if f1 < f2:\n",
    "            xr = x2\n",
    "            Li = (F[n - i]/F[n - (i - 2)])*L0\n",
    "        elif f1 > f2:\n",
    "            xl = x1\n",
    "            Li = (F[n - i]/F[n - (i - 2)])*L0\n",
    "        else:\n",
    "            xl, xr = x1, x2\n",
    "            Li = (F[n - i]/F[n - (i - 2)])*(xr - xl)\n",
    "            \n",
    "        L0 = xr - xl\n",
    "        R += [Li/ini,] \n",
    "        a += [xl, ]\n",
    "        b += [xr, ]\n",
    "        F1 += [f1, ]\n",
    "        F2 += [f2, ]\n",
    "        \n",
    "    data = {'n' : range(0, n),\n",
    "            'xl': a,\n",
    "            'xr': b,\n",
    "            'f(x1)': F1,\n",
    "            'f(x2)': F2,\n",
    "            'Reduction Ratio': R}\n",
    "    df = pd.DataFrame(data, columns = ['n', 'xl', 'xr', 'f(x1)', 'f(x2)', 'Reduction Ratio'])\n",
    "    return df\n",
    "df = fib_search(f, -2.5, 2.5, 25)\n",
    "df"
   ]
  },
  {
   "cell_type": "markdown",
   "metadata": {},
   "source": [
    "The graph of the reduction ratio at each $n$ can be plotted with the following code:"
   ]
  },
  {
   "cell_type": "code",
   "execution_count": 9,
   "metadata": {},
   "outputs": [
    {
     "data": {
      "image/png": "[encoded data removed]",
      "text/plain": [
       "<Figure size 432x288 with 1 Axes>"
      ]
     },
     "metadata": {
      "needs_background": "light"
     },
     "output_type": "display_data"
    }
   ],
   "source": [
    "plt.xlabel(\"n->\")\n",
    "plt.ylabel(\"Reduction Ratio ->\")\n",
    "plt.plot(range(0, len(df)), df['Reduction Ratio'])\n",
    "plt.title(\"Graph of change of reduction ratio at each $n$\")\n",
    "plt.show()"
   ]
  },
  {
   "cell_type": "markdown",
   "metadata": {},
   "source": [
    "In the next section we discuss the following direct root finding methods:\n",
    "\n",
    "* **Newton's method**,\n",
    "* **Secant Method**, and\n",
    "* **Bisection Method**"
   ]
  },
  {
   "cell_type": "markdown",
   "metadata": {},
   "source": [
    "## Newton's Method\n",
    "\n",
    "For a given objective function $f(x), x\\in \\mathbb{R}$, the necessary condition for it to contain a minimizer $x^*$, is that $\\frac{df}{dx}(x^*)=0$. The aim of these direct root-finding methods is thus to obtain the solution of the equation,\n",
    "\\begin{equation}\n",
    "    \\frac{df}{dx}(x)=0 \\label{eq:13}\\tag{13}\n",
    "\\end{equation}\n",
    "\n",
    "At point $x_j$, the Taylor's expansion of the objective function, up to the second order terms is given by,\n",
    "\\begin{equation}\n",
    "    f(x) = f(x_j) + (x - x_j)\\frac{df}{dx}(x_j) + \\frac{1}{2}(x - x_j)^2\\frac{d^2f}{dx^2}(x_j) \\label{eq:14}\\tag{14}\n",
    "\\end{equation}\n",
    "\n",
    "Now, \n",
    "\\begin{equation}\n",
    "    \\frac{df}{dx}(x_j) = 0 \\label{eq:15}\\tag{15}\n",
    "\\end{equation}\n",
    "so, \n",
    "\n",
    "Eq.\\eqref{eq:14} reduces to \n",
    "\\begin{equation}\n",
    "    f(x) = f(x_j) + \\frac{1}{2}(x - x_j)^2\\frac{d^2f}{dx^2}(x_j) \\label{eq:16}\\tag{16}\n",
    "\\end{equation}\n",
    "\n",
    "Here $\\frac{d^2f}{dx^2}(x_j)$ is a constant. Now, we find the derivative of Eq.\\eqref{eq:16} and set it to $0$ following Eq.\\eqref{eq:13}\n",
    "\\begin{align}\n",
    "\\frac{df}{dx}(x) &= 0 \\\\\n",
    "\\frac{df}{dx}(x_j) + (x - x_j)\\frac{d^2f}{dx^2}(x_j) &= 0 \\label{eq:17}\\tag{17}\n",
    "\\end{align}\n",
    "\n",
    "We get,\n",
    "\\begin{equation}\n",
    "    x = x_j - \\frac{\\frac{df}{dx}(x_j)}{\\frac{d^2f}{dx^2}(x_j)} \\label{eq:18}\\tag{18}\n",
    "\\end{equation}\n",
    "\n",
    "$x_j$ denotes an approximation to the minimizer $x^*$ of $f(x)$. An improved approximation in the form of an iterative process can be given using Eq.\\eqref{eq:18},\n",
    "\\begin{equation}\n",
    "    x_{j+1} = x_j - \\frac{\\frac{df}{dx}(x_j)}{\\frac{d^2f}{dx^2}(x_j)} \\label{eq:19}\\tag{19}\n",
    "\\end{equation}\n",
    "\n",
    "The termination condition for convergence after a sufficient number of large iterations to $x^*$ is given by:\n",
    "\\begin{equation}\n",
    "    |\\frac{df}{dx}(x_{j+1})| \\leq \\epsilon \\label{eq:20}\\tag{20}\n",
    "\\end{equation}\n",
    "\n",
    "where, $\\epsilon$ is the tolerance set by the user for the optimization algorithm. In numerical analysis literature, the *Newton's method* is also sometimes called the *Newton-Raphson method*, because it was originally designed by Newton and was later improved by Raphson. The *Newton's method* has a fast convergence property called the *quadratic convergence*.\n",
    "\n",
    "\n",
    "For a twice differentiable objective function $f(x)$, assuming that its minimizer $x^*$ lies in the interval $(x_l, x_r)$, with $\\frac{df}{dx}(x^*) \\neq 0$ and $f(x^*) = 0$, for the Newton's iteration, if $x_j$ converges to $x^*$ for a large number of iterations, $j \\to \\infty$, $x_j$ is said to be *quadratically convergent* to $x^*$ if the following condition is satisfied:\n",
    "\\begin{equation}\n",
    "    |x_{j+1} - x^*| \\leq M|x_j - x^*|^2, \\text{ if } M > \\frac{|\\frac{d^2f}{dx^2}(x^*)|}{2|\\frac{df}{dx}(x^*)|} \\label{eq:21}\\tag{21}\n",
    "\\end{equation}\n"
   ]
  },
  {
   "cell_type": "markdown",
   "metadata": {},
   "source": [
    "### An Example\n",
    "\n",
    "Let us consider the objective function,\n",
    "\\begin{equation}\n",
    "    f(x) = x^3 + x^2 - 1 \\label{eq:22}\\tag{22}\n",
    "\\end{equation}\n",
    "\n",
    "We will use the *Newton's method* to find the root $x^*$ of the objective function, along with the function value $f(x^*)$ at this point. Let the initial experimental point of the iteration be $x_j = 2.0$ and the tolerance be $\\epsilon = 10^{-6}$. In the algorithm aboave we see that we have to define two functions besides the objective function. They are `fprime()` for $\\frac{df}{dx}$, i.e, the first derivative and `fprime2()` for $\\frac{d^2f}{dx^2}$, i.e, the second derivative. We will use the `autograd` package we discussed before, to define the derivative functions. Let us start with defining the objective function first:\n"
   ]
  },
  {
   "cell_type": "code",
   "execution_count": 11,
   "metadata": {},
   "outputs": [
    {
     "data": {
      "image/png": "[encoded data removed]",
      "text/plain": [
       "<Figure size 432x288 with 1 Axes>"
      ]
     },
     "metadata": {
      "needs_background": "light"
     },
     "output_type": "display_data"
    }
   ],
   "source": [
    "def f(x): # objective function\n",
    "    return x**3 + x**2 -1\n",
    "l = np.linspace(-2, 2, 100)\n",
    "plt.plot(l, f(l), 'r-')\n",
    "plt.xlabel('x ->')\n",
    "plt.ylabel('f(x) ->')\n",
    "plt.title(\"Graph of $f(x) =  x^3 + x^2 - 1$\")\n",
    "plt.show()"
   ]
  },
  {
   "cell_type": "markdown",
   "metadata": {},
   "source": [
    "We now define the functions for the first derivative and the second derivative of $f(x)$:"
   ]
  },
  {
   "cell_type": "code",
   "execution_count": 13,
   "metadata": {},
   "outputs": [],
   "source": [
    "import autograd.numpy as au\n",
    "from autograd import grad, jacobian\n",
    "\n",
    "fprime = grad(f) # first derivative of f(x)\n",
    "fprime2 = grad(fprime) # second derivative of f(x)"
   ]
  },
  {
   "cell_type": "markdown",
   "metadata": {},
   "source": [
    "To find the value of these derivatives at a given point, we write our code in the following way:"
   ]
  },
  {
   "cell_type": "code",
   "execution_count": 14,
   "metadata": {},
   "outputs": [
    {
     "name": "stdout",
     "output_type": "stream",
     "text": [
      "0.0\n",
      "6.5\n"
     ]
    }
   ],
   "source": [
    "print(fprime(0.)) # first derivative of f(x) at point x=0\n",
    "print(fprime2(0.75)) # second derivative of f(x) at point 0.75"
   ]
  },
  {
   "cell_type": "markdown",
   "metadata": {},
   "source": [
    "Now, to implement *Newton's method*, we will first introduce the `root_scalar()` function of the `scipy.optimize` package, which is used for direct root finding for scalar nonlinear objective functions. Detailed descriptions of the parameters in `root_scalar()` function can be found in the `scipy.optimize` official documentation. The `root_scalar()` function returns the solution as `RootResults` object.\n",
    "\n",
    "Now, returning back to the original problem, where we intend to find the root of the objective function, using the *Newton's method*, and using the given value of the initial experimental point and the tolerance, we write the following Python code:\n"
   ]
  },
  {
   "cell_type": "code",
   "execution_count": 15,
   "metadata": {},
   "outputs": [
    {
     "name": "stdout",
     "output_type": "stream",
     "text": [
      "      converged: True\n",
      "           flag: 'converged'\n",
      " function_calls: 6\n",
      "     iterations: 6\n",
      "           root: 0.7548776662468297\n"
     ]
    }
   ],
   "source": [
    "from scipy import optimize\n",
    "def FP(x): # Returns the objective function, its first and second derivative at the point x\n",
    "    return f(x), fprime(x), fprime2(x)\n",
    "sol = optimize.root_scalar(FP, x0=2., fprime=True, fprime2=True, xtol=10**-6, method='newton') # The solver code, using the method = 'newton'\n",
    "print(sol) # Prints the results"
   ]
  },
  {
   "cell_type": "markdown",
   "metadata": {},
   "source": [
    "We see the root is approximately $0.75$, the convergence was successful and there have been $6$ iterations in the optimization process and the function has been evaluated $6$ times too. The optimization data has been collected and is shown below:\n"
   ]
  },
  {
   "cell_type": "code",
   "execution_count": 17,
   "metadata": {},
   "outputs": [
    {
     "data": {
      "text/html": [
       "<div>\n",
       "<style scoped>\n",
       "    .dataframe tbody tr th:only-of-type {\n",
       "        vertical-align: middle;\n",
       "    }\n",
       "\n",
       "    .dataframe tbody tr th {\n",
       "        vertical-align: top;\n",
       "    }\n",
       "\n",
       "    .dataframe thead th {\n",
       "        text-align: right;\n",
       "    }\n",
       "</style>\n",
       "<table border=\"1\" class=\"dataframe\">\n",
       "  <thead>\n",
       "    <tr style=\"text-align: right;\">\n",
       "      <th></th>\n",
       "      <th>x</th>\n",
       "      <th>f(x)</th>\n",
       "    </tr>\n",
       "  </thead>\n",
       "  <tbody>\n",
       "    <tr>\n",
       "      <th>0</th>\n",
       "      <td>2.000000</td>\n",
       "      <td>11.000000</td>\n",
       "    </tr>\n",
       "    <tr>\n",
       "      <th>1</th>\n",
       "      <td>1.312500</td>\n",
       "      <td>2.983643</td>\n",
       "    </tr>\n",
       "    <tr>\n",
       "      <th>2</th>\n",
       "      <td>0.929637</td>\n",
       "      <td>0.667639</td>\n",
       "    </tr>\n",
       "    <tr>\n",
       "      <th>3</th>\n",
       "      <td>0.779671</td>\n",
       "      <td>0.081839</td>\n",
       "    </tr>\n",
       "    <tr>\n",
       "      <th>4</th>\n",
       "      <td>0.755480</td>\n",
       "      <td>0.001940</td>\n",
       "    </tr>\n",
       "    <tr>\n",
       "      <th>5</th>\n",
       "      <td>0.754878</td>\n",
       "      <td>0.000001</td>\n",
       "    </tr>\n",
       "  </tbody>\n",
       "</table>\n",
       "</div>"
      ],
      "text/plain": [
       "          x       f(x)\n",
       "0  2.000000  11.000000\n",
       "1  1.312500   2.983643\n",
       "2  0.929637   0.667639\n",
       "3  0.779671   0.081839\n",
       "4  0.755480   0.001940\n",
       "5  0.754878   0.000001"
      ]
     },
     "execution_count": 17,
     "metadata": {},
     "output_type": "execute_result"
    }
   ],
   "source": [
    "L = []\n",
    "def F(x): # objective function\n",
    "    L.append(x)\n",
    "    return x**3 + x**2 -1\n",
    "def FP(x): # Returns the objective function, its first and second derivative at the point x\n",
    "    return F(x), fprime(x), fprime2(x)\n",
    "sol = optimize.root_scalar(FP, x0=2., fprime=True, fprime2=True, xtol=10**-6, method='newton')\n",
    "fL = []\n",
    "for i in L:\n",
    "    fL += [f(i), ]\n",
    "data = {'x' : L,\n",
    "        'f(x)': fL}\n",
    "        \n",
    "df = pd.DataFrame(data, columns = ['x', 'f(x)'])\n",
    "df"
   ]
  },
  {
   "cell_type": "markdown",
   "metadata": {},
   "source": [
    "The optimization steps can be plotted too. The graph with all the function evaluations along with the minimizer $f(x^*)$ at $x^*$ has been denoted as a blue dotted line in the below figure which can be generated using the following Python code:\n"
   ]
  },
  {
   "cell_type": "code",
   "execution_count": 18,
   "metadata": {},
   "outputs": [
    {
     "data": {
      "text/plain": [
       "Text(0.5, 1.0, 'optimization of $f(x) = x^3 + x^2 - 1$')"
      ]
     },
     "execution_count": 18,
     "metadata": {},
     "output_type": "execute_result"
    },
    {
     "data": {
      "image/png": "[encoded data removed]",
      "text/plain": [
       "<Figure size 432x288 with 1 Axes>"
      ]
     },
     "metadata": {
      "needs_background": "light"
     },
     "output_type": "display_data"
    }
   ],
   "source": [
    "plt.plot(np.linspace(-2, 2, 100), f(np.linspace(-2, 2, 100)), 'r-')\n",
    "plt.plot(df['x'], df['f(x)'], 'ko-')\n",
    "plt.axvline(x=sol.root, color='b', linestyle='--')\n",
    "plt.axhline(y=f(sol.root), color='g', linestyle='--')\n",
    "plt.xlabel('x ->')\n",
    "plt.ylabel('f(x) ->')\n",
    "plt.title(\"optimization of $f(x) = x^3 + x^2 - 1$\")"
   ]
  },
  {
   "cell_type": "markdown",
   "metadata": {},
   "source": [
    "## Secant Method\n",
    "\n",
    "The formulation of the *secant method* looks similar to that of the **Newton's method**.\n",
    "\n",
    "\\begin{equation}\n",
    "\\frac{df}{dx}(x_j) + s\\frac{d^2f}{dx^2}(x_j) = 0 \\label{eq:23}\\tag{23}\n",
    "\\end{equation}\n",
    "\n",
    "Where, $s$ is the slope of the line connecting the points $(a, \\frac{df}{dx}(a))$ and $(b, \\frac{df}{dx}(b))$ on the $x-\\frac{df}{dx}$ plane. $a$ and $b$ are two different approximations to the root of the objective function. We know the equation for the slope,\n",
    "\\begin{align}\n",
    "s = \\frac{\\frac{df}{dx}(b) - \\frac{df}{dx}(a)}{b - a} \\label{eq:24}\\tag{24}\n",
    "\\end{align}\n",
    "\n",
    "So, Eq.\\eqref{eq:23} can be written as:\n",
    "\\begin{eqnarray}\n",
    "    x &-& x_j = -\\frac{\\frac{df}{dx}(x_j)}{s} \\nonumber \\\\\n",
    "    x &=& x_j - \\frac{\\frac{df}{dx}(a)(b - a)}{\\frac{df}{dx}(b) - \\frac{df}{dx}(a)} = a - \\frac{\\frac{df}{dx}(a)(a - b)}{\\frac{df}{dx}(a) - \\frac{df}{dx}(b)}  \\label{eq:25}\\tag{25}\n",
    "\\end{eqnarray}\n",
    "\n",
    "The iterative process, known as the *secant method* is thus given by,\n",
    "\\begin{equation}\n",
    "    x_{j+1} = x_j - \\frac{\\frac{df}{dx}(x_j)(x_j - x_{j-1})}{\\frac{df}{dx}(x_j) - \\frac{df}{dx}(x_{j+1})} \\label{eq:26}\\tag{26}\n",
    "\\end{equation}\n",
    "\n",
    "The *secant* of a curve is a line that intersects the curve at minimum of two distinct points. As $b \\to a$, the secant approaches $\\frac{d^2f}{dx^2}(a)$. Due to this reason, the *secant method* is also called the *quasi-Newton method*. The root $x^*$ lies between the points $a$ and $b$ if the following condition is satisfied:\n",
    "\n",
    "\\begin{equation}\n",
    "    \\frac{df}{dx}(a)\\frac{df}{dx}(b) < 0 \\label{eq:27}\\tag{27}\n",
    "\\end{equation}\n",
    "\n",
    "As we have seen, the iteration process demands two initial points to start with, i.e, $a$ and $b$. The iterates $x_j$ converges to the root of the objective function when $a$ and $b$ are close to the root. The order of convergence for the process is given by the number $\\phi=\\frac{\\sqrt{5}+1}{2} \\approx 1.618$, which is the golden ratio, i.e, the *secant method* has a *superlinear convergence*, unlike a quadratic or a cubic convergence.\n"
   ]
  },
  {
   "cell_type": "markdown",
   "metadata": {},
   "source": [
    "### An Example\n",
    "\n",
    "Let us consider an objective function given by,\n",
    "\\begin{equation}\n",
    "    f(x) = x\\cos(x^2 - 7x) - 2x \\label{eq:28}\\tag{28}\n",
    "\\end{equation}\n",
    "We will find the root of this objective function, given the two starting points are $a=-1.5$ and $b=1$ and the tolerance $\\epsilon = 10^{-7}$.\n",
    "\n",
    "The plot for this objective function can be generated in the following way:\n"
   ]
  },
  {
   "cell_type": "code",
   "execution_count": 19,
   "metadata": {},
   "outputs": [
    {
     "data": {
      "image/png": "[encoded data removed]",
      "text/plain": [
       "<Figure size 432x288 with 1 Axes>"
      ]
     },
     "metadata": {
      "needs_background": "light"
     },
     "output_type": "display_data"
    }
   ],
   "source": [
    "def f(x): return x*au.cos(x**2-7*x)-2*x\n",
    "l = np.linspace(-3, 3., 1000)\n",
    "plt.plot(l, f(l), 'r-')\n",
    "plt.xlabel('x->')\n",
    "plt.ylabel('f(x)->')\n",
    "plt.show()"
   ]
  },
  {
   "cell_type": "markdown",
   "metadata": {},
   "source": [
    "The corresponding $x-\\frac{df}{dx}(x)$ plot is given below:"
   ]
  },
  {
   "cell_type": "code",
   "execution_count": 20,
   "metadata": {},
   "outputs": [
    {
     "data": {
      "image/png": "[encoded data removed]",
      "text/plain": [
       "<Figure size 432x288 with 1 Axes>"
      ]
     },
     "metadata": {
      "needs_background": "light"
     },
     "output_type": "display_data"
    }
   ],
   "source": [
    "def f(x): return x*au.cos(x**2-7*x)-2*x\n",
    "l = np.linspace(-3, 3., 1000)\n",
    "G = grad(f)\n",
    "h=[]\n",
    "for i in l:\n",
    "    h+=[G(i),]\n",
    "h = np.array(h)\n",
    "plt.plot(l, h, 'b-')\n",
    "plt.xlabel('x->')\n",
    "plt.ylabel('$\\\\frac{df}{dx}(x)$->')\n",
    "plt.show()"
   ]
  },
  {
   "cell_type": "markdown",
   "metadata": {},
   "source": [
    "The objective function and its first derivative can be defined in Python:"
   ]
  },
  {
   "cell_type": "code",
   "execution_count": 21,
   "metadata": {},
   "outputs": [],
   "source": [
    "def f(x): # Objective function\n",
    "    return x*au.cos(x**2 - 7*x) - 2*x\n",
    "    \n",
    "fprime = grad(f) # First derivative of the objective function"
   ]
  },
  {
   "cell_type": "markdown",
   "metadata": {},
   "source": [
    "Now, the function that returns both the objective function and its first derivative at a particular point can be defined as:"
   ]
  },
  {
   "cell_type": "code",
   "execution_count": 22,
   "metadata": {},
   "outputs": [],
   "source": [
    "def FP(x):\n",
    "    return f(x), fprime(x)"
   ]
  },
  {
   "cell_type": "markdown",
   "metadata": {},
   "source": [
    "We now write the solver code with the `root_scalar()` function where the parameters are set to be `method='secant'`, `x0=-1.5`, `x1=1.`, `xtol=10**-7` and so on. \n"
   ]
  },
  {
   "cell_type": "code",
   "execution_count": 23,
   "metadata": {},
   "outputs": [
    {
     "name": "stdout",
     "output_type": "stream",
     "text": [
      "      converged: True\n",
      "           flag: 'converged'\n",
      " function_calls: 6\n",
      "     iterations: 5\n",
      "           root: -6.677327076928414e-24\n"
     ]
    }
   ],
   "source": [
    "sol = optimize.root_scalar(FP, x0=-1.5, x1=1., fprime=True, xtol=10**-7, method='secant')\n",
    "print(sol) # Print the solution results"
   ]
  },
  {
   "cell_type": "markdown",
   "metadata": {},
   "source": [
    "The optimization data has been collected and is shown below:"
   ]
  },
  {
   "cell_type": "code",
   "execution_count": 24,
   "metadata": {},
   "outputs": [
    {
     "data": {
      "text/html": [
       "<div>\n",
       "<style scoped>\n",
       "    .dataframe tbody tr th:only-of-type {\n",
       "        vertical-align: middle;\n",
       "    }\n",
       "\n",
       "    .dataframe tbody tr th {\n",
       "        vertical-align: top;\n",
       "    }\n",
       "\n",
       "    .dataframe thead th {\n",
       "        text-align: right;\n",
       "    }\n",
       "</style>\n",
       "<table border=\"1\" class=\"dataframe\">\n",
       "  <thead>\n",
       "    <tr style=\"text-align: right;\">\n",
       "      <th></th>\n",
       "      <th>x</th>\n",
       "      <th>f(x)</th>\n",
       "      <th>f'(x)</th>\n",
       "    </tr>\n",
       "  </thead>\n",
       "  <tbody>\n",
       "    <tr>\n",
       "      <th>0</th>\n",
       "      <td>-1.500000e+00</td>\n",
       "      <td>1.525219e+00</td>\n",
       "      <td>-3.755800</td>\n",
       "    </tr>\n",
       "    <tr>\n",
       "      <th>1</th>\n",
       "      <td>1.000000e+00</td>\n",
       "      <td>-1.039830e+00</td>\n",
       "      <td>0.357248</td>\n",
       "    </tr>\n",
       "    <tr>\n",
       "      <th>2</th>\n",
       "      <td>-1.346007e-02</td>\n",
       "      <td>1.352000e-02</td>\n",
       "      <td>-1.013368</td>\n",
       "    </tr>\n",
       "    <tr>\n",
       "      <th>3</th>\n",
       "      <td>-1.650793e-04</td>\n",
       "      <td>1.650794e-04</td>\n",
       "      <td>-1.000002</td>\n",
       "    </tr>\n",
       "    <tr>\n",
       "      <th>4</th>\n",
       "      <td>-7.406967e-07</td>\n",
       "      <td>7.406967e-07</td>\n",
       "      <td>-1.000000</td>\n",
       "    </tr>\n",
       "    <tr>\n",
       "      <th>5</th>\n",
       "      <td>-4.967710e-13</td>\n",
       "      <td>4.967710e-13</td>\n",
       "      <td>-1.000000</td>\n",
       "    </tr>\n",
       "  </tbody>\n",
       "</table>\n",
       "</div>"
      ],
      "text/plain": [
       "              x          f(x)     f'(x)\n",
       "0 -1.500000e+00  1.525219e+00 -3.755800\n",
       "1  1.000000e+00 -1.039830e+00  0.357248\n",
       "2 -1.346007e-02  1.352000e-02 -1.013368\n",
       "3 -1.650793e-04  1.650794e-04 -1.000002\n",
       "4 -7.406967e-07  7.406967e-07 -1.000000\n",
       "5 -4.967710e-13  4.967710e-13 -1.000000"
      ]
     },
     "execution_count": 24,
     "metadata": {},
     "output_type": "execute_result"
    }
   ],
   "source": [
    "L = []\n",
    "def F(x): # objective function\n",
    "    L.append(x)\n",
    "    return x*au.cos(x**2 - 7*x) - 2*x\n",
    "def FP(x): # Returns the objective function and its derivatives\n",
    "    return F(x), fprime(x)\n",
    "sol = optimize.root_scalar(FP, x0=-1.5, x1=1., fprime=True, xtol=10**-7, method='secant')\n",
    "fL = []\n",
    "fL2 = []\n",
    "for i in L:\n",
    "    fL += [f(i), ]\n",
    "    fL2 += [fprime(i), ]\n",
    "data = {\"x\" : L,\n",
    "        \"f(x)\": fL,\n",
    "        \"f'(x)\": fL2}\n",
    "        \n",
    "df = pd.DataFrame(data, columns = ['x', 'f(x)', \"f'(x)\"])"
   ]
  },
  {
   "cell_type": "markdown",
   "metadata": {},
   "source": [
    "The plot of the optimization steps showing the convergence of the root, along with the root being denoted by the vertical broken blue line and its corresponding function value denoted by horizontal broken green line has been shown below:\n"
   ]
  },
  {
   "cell_type": "code",
   "execution_count": 26,
   "metadata": {},
   "outputs": [
    {
     "data": {
      "text/plain": [
       "Text(0.5, 1.0, 'optimization of $f(x) = x\\\\cos(x^2 - 7x) - 2x$')"
      ]
     },
     "execution_count": 26,
     "metadata": {},
     "output_type": "execute_result"
    },
    {
     "data": {
      "image/png": "[encoded data removed]",
      "text/plain": [
       "<Figure size 432x288 with 1 Axes>"
      ]
     },
     "metadata": {
      "needs_background": "light"
     },
     "output_type": "display_data"
    }
   ],
   "source": [
    "plt.plot(np.linspace(-3, 3, 100), f(np.linspace(-3, 3, 100)), 'r-')\n",
    "plt.plot(df['x'], df['f(x)'], 'ko-')\n",
    "plt.axvline(x=sol.root, color='b', linestyle='--')\n",
    "plt.axhline(y=f(sol.root), color='g', linestyle='--')\n",
    "plt.xlabel('x ->')\n",
    "plt.ylabel('f(x) ->')\n",
    "plt.title(\"optimization of $f(x) = x\\cos(x^2 - 7x) - 2x$\")"
   ]
  },
  {
   "cell_type": "markdown",
   "metadata": {},
   "source": [
    "A similar kind of plot is shown for the $x-\\frac{df}{dx}(x)$ plane:"
   ]
  },
  {
   "cell_type": "code",
   "execution_count": 27,
   "metadata": {},
   "outputs": [
    {
     "data": {
      "text/plain": [
       "Text(0.5, 1.0, 'Visualizing the root and the $\\\\frac{df}{dx}(x)$ value')"
      ]
     },
     "execution_count": 27,
     "metadata": {},
     "output_type": "execute_result"
    },
    {
     "data": {
      "image/png": "[encoded data removed]",
      "text/plain": [
       "<Figure size 432x288 with 1 Axes>"
      ]
     },
     "metadata": {
      "needs_background": "light"
     },
     "output_type": "display_data"
    }
   ],
   "source": [
    "l = np.linspace(-3, 3., 1000)\n",
    "G = grad(f)\n",
    "h=[]\n",
    "for i in l:\n",
    "    h+=[G(i),]\n",
    "h = np.array(h)\n",
    "plt.plot(l, h, 'b-')\n",
    "plt.plot(df['x'], df[\"f'(x)\"], 'ko-')\n",
    "plt.axvline(x=sol.root, color='b', linestyle='--')\n",
    "plt.axhline(y=G(f(sol.root)), color='g', linestyle='--')\n",
    "plt.xlabel('x ->')\n",
    "plt.ylabel('$\\\\frac{df}{dx}(x)$ ->')\n",
    "plt.title(\"Visualizing the root and the $\\\\frac{df}{dx}(x)$ value\")"
   ]
  },
  {
   "cell_type": "markdown",
   "metadata": {},
   "source": [
    "## Bisection Method\n",
    "\n",
    "The bisection method starts with the continuous objective function with an initial interval provided, given by $[x_l, x_r]$ such that the root lies in between them and the following condition is satisfied:\n",
    "\n",
    "\\begin{equation}\n",
    "    f(x_l)f(x_r) < 0 \\label{eq:29}\\tag{29}\n",
    "\\end{equation}\n",
    "\n",
    "The method works by iteratively bisecting the interval and selecting the subinterval where Eq.\\eqref{eq:29} is satisfied for the newly chosen points. A new point $x_j \\in [x_l, x_r]$ is chosen according to the following:\n",
    "\\begin{equation}\n",
    "    x_j = \\frac{x_l+x_r}{2} \\label{eq:30}\\tag{30}\n",
    "\\end{equation}"
   ]
  },
  {
   "cell_type": "markdown",
   "metadata": {},
   "source": [
    "### An Example\n",
    "\n",
    "Let us consider an objective function, given by,\n",
    "\\begin{equation}\n",
    "    f(x) = x^3 - 2x - 2 \\label{eq:31}\\tag{31}\n",
    "\\end{equation}\n",
    "We will find the root of this objective function using *bisection method*, given the initial interval is $[-1, 2]$ and the tolerance is $\\epsilon=10^{-7}$. Let us first define the objective function and its first derivative in Python:\n"
   ]
  },
  {
   "cell_type": "code",
   "execution_count": 28,
   "metadata": {},
   "outputs": [
    {
     "name": "stdout",
     "output_type": "stream",
     "text": [
      "      converged: True\n",
      "           flag: 'converged'\n",
      " function_calls: 27\n",
      "     iterations: 25\n",
      "           root: 1.7692923843860626\n"
     ]
    }
   ],
   "source": [
    "def f(x):\n",
    "    return x**3 - 2*x - 2\n",
    "fprime = grad(f)\n",
    "\n",
    "def FP(x):\n",
    "    return f(x), fprime(x)\n",
    "sol = optimize.root_scalar(FP, bracket=[-1., 2.], fprime=True, xtol=10**-7, method='bisect')\n",
    "print(sol)"
   ]
  },
  {
   "cell_type": "markdown",
   "metadata": {},
   "source": [
    "We have set our initial interval as asked, by setting the parameter `bracket=[-1., 2.]`. The root is $\\sim 1.77$. The optimization data has been collected and is shown below:"
   ]
  },
  {
   "cell_type": "code",
   "execution_count": 29,
   "metadata": {},
   "outputs": [
    {
     "data": {
      "text/html": [
       "<div>\n",
       "<style scoped>\n",
       "    .dataframe tbody tr th:only-of-type {\n",
       "        vertical-align: middle;\n",
       "    }\n",
       "\n",
       "    .dataframe tbody tr th {\n",
       "        vertical-align: top;\n",
       "    }\n",
       "\n",
       "    .dataframe thead th {\n",
       "        text-align: right;\n",
       "    }\n",
       "</style>\n",
       "<table border=\"1\" class=\"dataframe\">\n",
       "  <thead>\n",
       "    <tr style=\"text-align: right;\">\n",
       "      <th></th>\n",
       "      <th>x</th>\n",
       "      <th>f(x)</th>\n",
       "    </tr>\n",
       "  </thead>\n",
       "  <tbody>\n",
       "    <tr>\n",
       "      <th>0</th>\n",
       "      <td>-1.000000</td>\n",
       "      <td>-1.000000e+00</td>\n",
       "    </tr>\n",
       "    <tr>\n",
       "      <th>1</th>\n",
       "      <td>2.000000</td>\n",
       "      <td>2.000000e+00</td>\n",
       "    </tr>\n",
       "    <tr>\n",
       "      <th>2</th>\n",
       "      <td>0.500000</td>\n",
       "      <td>-2.875000e+00</td>\n",
       "    </tr>\n",
       "    <tr>\n",
       "      <th>3</th>\n",
       "      <td>1.250000</td>\n",
       "      <td>-2.546875e+00</td>\n",
       "    </tr>\n",
       "    <tr>\n",
       "      <th>4</th>\n",
       "      <td>1.625000</td>\n",
       "      <td>-9.589844e-01</td>\n",
       "    </tr>\n",
       "    <tr>\n",
       "      <th>5</th>\n",
       "      <td>1.812500</td>\n",
       "      <td>3.293457e-01</td>\n",
       "    </tr>\n",
       "    <tr>\n",
       "      <th>6</th>\n",
       "      <td>1.718750</td>\n",
       "      <td>-3.601379e-01</td>\n",
       "    </tr>\n",
       "    <tr>\n",
       "      <th>7</th>\n",
       "      <td>1.765625</td>\n",
       "      <td>-2.703476e-02</td>\n",
       "    </tr>\n",
       "    <tr>\n",
       "      <th>8</th>\n",
       "      <td>1.789062</td>\n",
       "      <td>1.482072e-01</td>\n",
       "    </tr>\n",
       "    <tr>\n",
       "      <th>9</th>\n",
       "      <td>1.777344</td>\n",
       "      <td>5.985397e-02</td>\n",
       "    </tr>\n",
       "    <tr>\n",
       "      <th>10</th>\n",
       "      <td>1.771484</td>\n",
       "      <td>1.622715e-02</td>\n",
       "    </tr>\n",
       "    <tr>\n",
       "      <th>11</th>\n",
       "      <td>1.768555</td>\n",
       "      <td>-5.449344e-03</td>\n",
       "    </tr>\n",
       "    <tr>\n",
       "      <th>12</th>\n",
       "      <td>1.770020</td>\n",
       "      <td>5.377508e-03</td>\n",
       "    </tr>\n",
       "    <tr>\n",
       "      <th>13</th>\n",
       "      <td>1.769287</td>\n",
       "      <td>-3.876562e-05</td>\n",
       "    </tr>\n",
       "    <tr>\n",
       "      <th>14</th>\n",
       "      <td>1.769653</td>\n",
       "      <td>2.668659e-03</td>\n",
       "    </tr>\n",
       "    <tr>\n",
       "      <th>15</th>\n",
       "      <td>1.769470</td>\n",
       "      <td>1.314769e-03</td>\n",
       "    </tr>\n",
       "    <tr>\n",
       "      <th>16</th>\n",
       "      <td>1.769379</td>\n",
       "      <td>6.379571e-04</td>\n",
       "    </tr>\n",
       "    <tr>\n",
       "      <th>17</th>\n",
       "      <td>1.769333</td>\n",
       "      <td>2.995846e-04</td>\n",
       "    </tr>\n",
       "    <tr>\n",
       "      <th>18</th>\n",
       "      <td>1.769310</td>\n",
       "      <td>1.304067e-04</td>\n",
       "    </tr>\n",
       "    <tr>\n",
       "      <th>19</th>\n",
       "      <td>1.769299</td>\n",
       "      <td>4.581985e-05</td>\n",
       "    </tr>\n",
       "    <tr>\n",
       "      <th>20</th>\n",
       "      <td>1.769293</td>\n",
       "      <td>3.526944e-06</td>\n",
       "    </tr>\n",
       "    <tr>\n",
       "      <th>21</th>\n",
       "      <td>1.769290</td>\n",
       "      <td>-1.761938e-05</td>\n",
       "    </tr>\n",
       "    <tr>\n",
       "      <th>22</th>\n",
       "      <td>1.769291</td>\n",
       "      <td>-7.046229e-06</td>\n",
       "    </tr>\n",
       "    <tr>\n",
       "      <th>23</th>\n",
       "      <td>1.769292</td>\n",
       "      <td>-1.759645e-06</td>\n",
       "    </tr>\n",
       "    <tr>\n",
       "      <th>24</th>\n",
       "      <td>1.769292</td>\n",
       "      <td>8.836489e-07</td>\n",
       "    </tr>\n",
       "    <tr>\n",
       "      <th>25</th>\n",
       "      <td>1.769292</td>\n",
       "      <td>-4.379983e-07</td>\n",
       "    </tr>\n",
       "    <tr>\n",
       "      <th>26</th>\n",
       "      <td>1.769292</td>\n",
       "      <td>2.228253e-07</td>\n",
       "    </tr>\n",
       "  </tbody>\n",
       "</table>\n",
       "</div>"
      ],
      "text/plain": [
       "           x          f(x)\n",
       "0  -1.000000 -1.000000e+00\n",
       "1   2.000000  2.000000e+00\n",
       "2   0.500000 -2.875000e+00\n",
       "3   1.250000 -2.546875e+00\n",
       "4   1.625000 -9.589844e-01\n",
       "5   1.812500  3.293457e-01\n",
       "6   1.718750 -3.601379e-01\n",
       "7   1.765625 -2.703476e-02\n",
       "8   1.789062  1.482072e-01\n",
       "9   1.777344  5.985397e-02\n",
       "10  1.771484  1.622715e-02\n",
       "11  1.768555 -5.449344e-03\n",
       "12  1.770020  5.377508e-03\n",
       "13  1.769287 -3.876562e-05\n",
       "14  1.769653  2.668659e-03\n",
       "15  1.769470  1.314769e-03\n",
       "16  1.769379  6.379571e-04\n",
       "17  1.769333  2.995846e-04\n",
       "18  1.769310  1.304067e-04\n",
       "19  1.769299  4.581985e-05\n",
       "20  1.769293  3.526944e-06\n",
       "21  1.769290 -1.761938e-05\n",
       "22  1.769291 -7.046229e-06\n",
       "23  1.769292 -1.759645e-06\n",
       "24  1.769292  8.836489e-07\n",
       "25  1.769292 -4.379983e-07\n",
       "26  1.769292  2.228253e-07"
      ]
     },
     "execution_count": 29,
     "metadata": {},
     "output_type": "execute_result"
    }
   ],
   "source": [
    "L = []\n",
    "def F(x): # objective function\n",
    "    L.append(x)\n",
    "    return x**3 - 2*x - 2\n",
    "def FP(x): # Returns the objective function and its derivatives\n",
    "    return F(x), fprime(x)\n",
    "sol = optimize.root_scalar(FP, bracket=[-1., 2.], fprime=True, xtol=10**-7, method='bisect')\n",
    "fL = []\n",
    "for i in L:\n",
    "    fL += [f(i), ]\n",
    "data = {\"x\" : L,\n",
    "        \"f(x)\": fL}\n",
    "        \n",
    "df = pd.DataFrame(data, columns = ['x', 'f(x)'])\n",
    "\n",
    "df"
   ]
  },
  {
   "cell_type": "markdown",
   "metadata": {},
   "source": [
    "The plot of the optimization steps showing the convergence of the root, along with the root being denoted by the vertical broken blue line and its corresponding function value denoted by horizontal broken green line has been shown below:\n"
   ]
  },
  {
   "cell_type": "code",
   "execution_count": 30,
   "metadata": {},
   "outputs": [
    {
     "data": {
      "text/plain": [
       "Text(0.5, 1.0, 'optimization of $f(x) = x^3 - 2x - 2$')"
      ]
     },
     "execution_count": 30,
     "metadata": {},
     "output_type": "execute_result"
    },
    {
     "data": {
      "image/png": "[encoded data removed]",
      "text/plain": [
       "<Figure size 432x288 with 1 Axes>"
      ]
     },
     "metadata": {
      "needs_background": "light"
     },
     "output_type": "display_data"
    }
   ],
   "source": [
    "plt.plot(np.linspace(-2, 2, 100), f(np.linspace(-2, 2, 100)), 'r-')\n",
    "plt.plot(df['x'], df['f(x)'], 'ko-')\n",
    "plt.axvline(x=sol.root, color='b', linestyle='--')\n",
    "plt.axhline(y=f(sol.root), color='g', linestyle='--')\n",
    "plt.xlabel('x ->')\n",
    "plt.ylabel('f(x) ->')\n",
    "plt.title(\"optimization of $f(x) = x^3 - 2x - 2$\")"
   ]
  },
  {
   "cell_type": "markdown",
   "metadata": {},
   "source": [
    "The audience is encouraged to try out the remaining solvers that will not be discussed further, but are provided by the `root_scalar()` function. This includes `'brenth'`, `'ridder'` and `'toms748'`. These method might come handy for those who want to explore more. In the next chapter, we will be discussing *line search descent methods* for solving unconstrained minimization tasks involving multivariate nonlinear objective functions."
   ]
  },
  {
   "cell_type": "code",
   "execution_count": null,
   "metadata": {},
   "outputs": [],
   "source": []
  }
 ],
 "metadata": {
  "kernelspec": {
   "display_name": "Python 3",
   "language": "python",
   "name": "python3"
  },
  "language_info": {
   "codemirror_mode": {
    "name": "ipython",
    "version": 3
   },
   "file_extension": ".py",
   "mimetype": "text/x-python",
   "name": "python",
   "nbconvert_exporter": "python",
   "pygments_lexer": "ipython3",
   "version": "3.8.5"
  }
 },
 "nbformat": 4,
 "nbformat_minor": 4
}
